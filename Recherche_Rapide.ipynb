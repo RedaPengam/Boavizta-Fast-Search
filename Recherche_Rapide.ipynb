{
  "nbformat": 4,
  "nbformat_minor": 0,
  "metadata": {
    "colab": {
      "name": "Recherche Rapide : Equipements Boavizta.ipynb",
      "provenance": [],
      "include_colab_link": true
    },
    "kernelspec": {
      "name": "python3",
      "display_name": "Python 3"
    },
    "language_info": {
      "name": "python"
    }
  },
  "cells": [
    {
      "cell_type": "markdown",
      "metadata": {
        "id": "view-in-github",
        "colab_type": "text"
      },
      "source": [
        "<a href=\"https://colab.research.google.com/github/RedaPengam/Boavizta-Tools/blob/main/Recherche_Rapide.ipynb\" target=\"_parent\"><img src=\"https://colab.research.google.com/assets/colab-badge.svg\" alt=\"Open In Colab\"/></a>"
      ]
    },
    {
      "cell_type": "markdown",
      "source": [
        "#**📌 Introduction**\n",
        "\n",
        "---"
      ],
      "metadata": {
        "id": "XBdHvvwJUmTs"
      }
    },
    {
      "cell_type": "markdown",
      "source": [
        "L'objectif de ce notebook est de pouvoir rechercher rapidement dans la base de données open source Boavizta. L'**empreinte carbone** du matériel correspond à la **colonne \"gwp_total\"**."
      ],
      "metadata": {
        "id": "tS9xx9owiSJX"
      }
    },
    {
      "cell_type": "markdown",
      "source": [
        "#**🔎 Recherche rapide dans Boavizta**\n",
        "\n",
        "---\n"
      ],
      "metadata": {
        "id": "BMOIkBRayvrR"
      }
    },
    {
      "cell_type": "markdown",
      "source": [
        "1. Exécuter la cellule de code ci-dessous via le bouton play en haut à gauche lors du survol de la cellule de code.\n",
        "2. Cliquer sur 🪄 dans la cellule des résultats après l'exécution.\n",
        "3. Cliquer sur \"filter\" dans la cellule des résultats."
      ],
      "metadata": {
        "id": "IpscssxR005p"
      }
    },
    {
      "cell_type": "code",
      "execution_count": null,
      "metadata": {
        "id": "_4BJ6j2Q60I8"
      },
      "outputs": [],
      "source": [
        "from sys import dont_write_bytecode\n",
        "import pandas as pd\n",
        "import requests\n",
        "import io\n",
        "\n",
        "url_boavizta = \"https://raw.githubusercontent.com/Boavizta/environmental-footprint-data/main/boavizta-data-us.csv\"\n",
        "# téléchargement des data raw\n",
        "download = requests.get(url_boavizta).content\n",
        "# filtrage des colonnes souhaitées\n",
        "listCol_boavizta_crop = [\"manufacturer\", \"name\", \"subcategory\", \"hard_drive\", \"lifetime\", \"gwp_total\", \"gwp_use_ratio\", \"gwp_manufacturing_ratio\"]\n",
        "df = pd.read_csv(io.StringIO(download.decode('utf-8')), usecols = listCol_boavizta_crop)\n",
        "df"
      ]
    },
    {
      "cell_type": "markdown",
      "source": [
        "#**⚙️ Opérations dans Boavizta**\n",
        "\n",
        "---"
      ],
      "metadata": {
        "id": "DaYtCOJ00O1u"
      }
    },
    {
      "cell_type": "code",
      "source": [
        "# existing subcategories\n",
        "df3 = df[\"subcategory\"].unique()\n",
        "df3"
      ],
      "metadata": {
        "id": "nuYT4JdaA00G",
        "outputId": "9a02d916-9b08-451d-fc9f-5fab5740ad1c",
        "colab": {
          "base_uri": "https://localhost:8080/"
        }
      },
      "execution_count": 5,
      "outputs": [
        {
          "output_type": "execute_result",
          "data": {
            "text/plain": [
              "array(['Laptop', 'Desktop', 'Monitor', 'EntertainmentT', 'IoT', 'Tablet',\n",
              "       'Smartphone', 'Entertainment', 'Workstation', 'Server',\n",
              "       'Thin Client', 'Thin client', 'Multimedia', 'Network', 'Gaming',\n",
              "       'Converged Edge', 'Converged', 'Printer', 'Hard drive', 'SAN/NAS'],\n",
              "      dtype=object)"
            ]
          },
          "metadata": {},
          "execution_count": 5
        }
      ]
    },
    {
      "cell_type": "markdown",
      "source": [
        "## Laptop"
      ],
      "metadata": {
        "id": "lW6Trb5CY8sV"
      }
    },
    {
      "cell_type": "code",
      "source": [
        "# moyenne des gwp_total\n",
        "df1 = df.query('subcategory == \"Laptop\"')[\"gwp_total\"].mean()\n",
        "print(round(df1))"
      ],
      "metadata": {
        "colab": {
          "base_uri": "https://localhost:8080/"
        },
        "id": "kwh7w4XP10HE",
        "outputId": "8af95ab3-28e5-45e6-cb6f-d49fa1b76ee4"
      },
      "execution_count": 6,
      "outputs": [
        {
          "output_type": "stream",
          "name": "stdout",
          "text": [
            "309\n"
          ]
        }
      ]
    },
    {
      "cell_type": "code",
      "source": [
        "# moyenne des gwp_manufacturing\n",
        "df2 = (df.query('subcategory == \"Laptop\"')[\"gwp_manufacturing_ratio\"]*df.query('subcategory == \"Laptop\"')[\"gwp_total\"]).mean()\n",
        "print(round(df2))"
      ],
      "metadata": {
        "colab": {
          "base_uri": "https://localhost:8080/"
        },
        "id": "cEStX_yYzy67",
        "outputId": "77d75ee3-827c-45e7-cbf1-aa01e75b5d2f"
      },
      "execution_count": 7,
      "outputs": [
        {
          "output_type": "stream",
          "name": "stdout",
          "text": [
            "232\n"
          ]
        }
      ]
    },
    {
      "cell_type": "markdown",
      "source": [
        "## Monitor"
      ],
      "metadata": {
        "id": "0w6eBiAzZBGf"
      }
    },
    {
      "cell_type": "code",
      "source": [
        "# moyenne des gwp_total\n",
        "df1 = df.query('subcategory == \"Monitor\"')[\"gwp_total\"].mean()\n",
        "print(round(df1))"
      ],
      "metadata": {
        "id": "hMvJawobZFyT",
        "outputId": "323552b4-ba08-453e-efdd-bd0e1d115240",
        "colab": {
          "base_uri": "https://localhost:8080/"
        }
      },
      "execution_count": 10,
      "outputs": [
        {
          "output_type": "stream",
          "name": "stdout",
          "text": [
            "567\n"
          ]
        }
      ]
    },
    {
      "cell_type": "code",
      "source": [
        "# moyenne des gwp_manufacturing\n",
        "df2 = (df.query('subcategory == \"Monitor\"')[\"gwp_manufacturing_ratio\"]*df.query('subcategory == \"Monitor\"')[\"gwp_total\"]).mean()\n",
        "print(round(df2))"
      ],
      "metadata": {
        "id": "eSKD2c_8Zmwn",
        "outputId": "9663b038-e0c6-4916-9bea-af463b445150",
        "colab": {
          "base_uri": "https://localhost:8080/"
        }
      },
      "execution_count": 11,
      "outputs": [
        {
          "output_type": "stream",
          "name": "stdout",
          "text": [
            "359\n"
          ]
        }
      ]
    }
  ]
}