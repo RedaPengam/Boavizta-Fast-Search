{
  "nbformat": 4,
  "nbformat_minor": 0,
  "metadata": {
    "colab": {
      "name": "Recherche Rapide : Equipements Boavizta.ipynb",
      "provenance": [],
      "include_colab_link": true
    },
    "kernelspec": {
      "name": "python3",
      "display_name": "Python 3"
    },
    "language_info": {
      "name": "python"
    }
  },
  "cells": [
    {
      "cell_type": "markdown",
      "metadata": {
        "id": "view-in-github",
        "colab_type": "text"
      },
      "source": [
        "<a href=\"https://colab.research.google.com/github/RedaPengam/Boavizta-Tools/blob/main/Recherche_Rapide.ipynb\" target=\"_parent\"><img src=\"https://colab.research.google.com/assets/colab-badge.svg\" alt=\"Open In Colab\"/></a>"
      ]
    },
    {
      "cell_type": "markdown",
      "source": [
        "#**📌 Introduction**\n",
        "\n",
        "---"
      ],
      "metadata": {
        "id": "XBdHvvwJUmTs"
      }
    },
    {
      "cell_type": "markdown",
      "source": [
        "L'objectif de ce notebook est de pouvoir rechercher rapidement dans la base de données open source Boavizta. L'**empreinte carbone** du matériel correspond à la **colonne \"gwp_total\"**."
      ],
      "metadata": {
        "id": "tS9xx9owiSJX"
      }
    },
    {
      "cell_type": "markdown",
      "source": [
        "#**🔎 Recherche rapide dans Boavizta**\n",
        "\n",
        "---\n"
      ],
      "metadata": {
        "id": "BMOIkBRayvrR"
      }
    },
    {
      "cell_type": "markdown",
      "source": [
        "1. Exécuter la cellule de code ci-dessous via le bouton play en haut à gauche lors du survol de la cellule de code.\n",
        "2. Cliquer sur 🪄 dans la cellule des résultats après l'exécution.\n",
        "3. Cliquer sur \"filter\" dans la cellule des résultats."
      ],
      "metadata": {
        "id": "IpscssxR005p"
      }
    },
    {
      "cell_type": "code",
      "execution_count": 2,
      "metadata": {
        "colab": {
          "base_uri": "https://localhost:8080/",
          "height": 423
        },
        "id": "_4BJ6j2Q60I8",
        "outputId": "1b519759-ddc3-4171-9f05-2f9b6d1c8253"
      },
      "outputs": [
        {
          "output_type": "execute_result",
          "data": {
            "text/plain": [
              "     manufacturer                                               name  \\\n",
              "0           Apple          13-inch MacBook Air (M1 CPU) 256GB - 2020   \n",
              "1           Apple          13-inch MacBook Air (M1 CPU) 512GB - 2020   \n",
              "2           Apple  13-inch MacBook Air with Retina display (1.1GH...   \n",
              "3           Apple  13-inch MacBook Air with Retina display (1.1GH...   \n",
              "4           Apple  13-inch MacBook Pro (1.4GHz quad-core CPU) 256...   \n",
              "...           ...                                                ...   \n",
              "1221      Seagate                   Nytro 1551 XA1920ME10083 1.92 TB   \n",
              "1222      Seagate                    Nytro 3331 XS7680SE70004 7.68TB   \n",
              "1223      Seagate         OneStor SP2584 Extensible Storage Platform   \n",
              "1224      Seagate                                 Pulsar 2 800GB SSD   \n",
              "1225      Seagate                                  THUNDERBUG 300 Go   \n",
              "\n",
              "     subcategory   gwp_total  gwp_use_ratio  lifetime  \\\n",
              "0         Laptop     161.000         0.1500       3.0   \n",
              "1         Laptop     181.000         0.1500       3.0   \n",
              "2         Laptop     174.000         0.1500       3.0   \n",
              "3         Laptop     202.000         0.1500       3.0   \n",
              "4         Laptop     217.000         0.1700       3.0   \n",
              "...          ...         ...            ...       ...   \n",
              "1221  Hard drive      53.760         0.8570       5.0   \n",
              "1222  Hard drive     195.072         0.7790       5.0   \n",
              "1223     SAN/NAS  190000.000         0.9652      10.0   \n",
              "1224  Hard drive     205.000         0.6600       3.0   \n",
              "1225  Hard drive     117.750         0.8800       5.0   \n",
              "\n",
              "      gwp_manufacturing_ratio  hard_drive  \n",
              "0                        0.76   SSD 256GB  \n",
              "1                        0.76   SSD 512GB  \n",
              "2                        0.77   SSD 256GB  \n",
              "3                        0.77   SSD 512GB  \n",
              "4                        0.76   SSD 256GB  \n",
              "...                       ...         ...  \n",
              "1221                      NaN  1.92TB SSD  \n",
              "1222                      NaN         NaN  \n",
              "1223                      NaN         NaN  \n",
              "1224                      NaN         NaN  \n",
              "1225                      NaN   300GB HDD  \n",
              "\n",
              "[1226 rows x 8 columns]"
            ],
            "text/html": [
              "\n",
              "  <div id=\"df-80d080d4-5bff-4ad0-8d7c-83ec7ab8fe07\">\n",
              "    <div class=\"colab-df-container\">\n",
              "      <div>\n",
              "<style scoped>\n",
              "    .dataframe tbody tr th:only-of-type {\n",
              "        vertical-align: middle;\n",
              "    }\n",
              "\n",
              "    .dataframe tbody tr th {\n",
              "        vertical-align: top;\n",
              "    }\n",
              "\n",
              "    .dataframe thead th {\n",
              "        text-align: right;\n",
              "    }\n",
              "</style>\n",
              "<table border=\"1\" class=\"dataframe\">\n",
              "  <thead>\n",
              "    <tr style=\"text-align: right;\">\n",
              "      <th></th>\n",
              "      <th>manufacturer</th>\n",
              "      <th>name</th>\n",
              "      <th>subcategory</th>\n",
              "      <th>gwp_total</th>\n",
              "      <th>gwp_use_ratio</th>\n",
              "      <th>lifetime</th>\n",
              "      <th>gwp_manufacturing_ratio</th>\n",
              "      <th>hard_drive</th>\n",
              "    </tr>\n",
              "  </thead>\n",
              "  <tbody>\n",
              "    <tr>\n",
              "      <th>0</th>\n",
              "      <td>Apple</td>\n",
              "      <td>13-inch MacBook Air (M1 CPU) 256GB - 2020</td>\n",
              "      <td>Laptop</td>\n",
              "      <td>161.000</td>\n",
              "      <td>0.1500</td>\n",
              "      <td>3.0</td>\n",
              "      <td>0.76</td>\n",
              "      <td>SSD 256GB</td>\n",
              "    </tr>\n",
              "    <tr>\n",
              "      <th>1</th>\n",
              "      <td>Apple</td>\n",
              "      <td>13-inch MacBook Air (M1 CPU) 512GB - 2020</td>\n",
              "      <td>Laptop</td>\n",
              "      <td>181.000</td>\n",
              "      <td>0.1500</td>\n",
              "      <td>3.0</td>\n",
              "      <td>0.76</td>\n",
              "      <td>SSD 512GB</td>\n",
              "    </tr>\n",
              "    <tr>\n",
              "      <th>2</th>\n",
              "      <td>Apple</td>\n",
              "      <td>13-inch MacBook Air with Retina display (1.1GH...</td>\n",
              "      <td>Laptop</td>\n",
              "      <td>174.000</td>\n",
              "      <td>0.1500</td>\n",
              "      <td>3.0</td>\n",
              "      <td>0.77</td>\n",
              "      <td>SSD 256GB</td>\n",
              "    </tr>\n",
              "    <tr>\n",
              "      <th>3</th>\n",
              "      <td>Apple</td>\n",
              "      <td>13-inch MacBook Air with Retina display (1.1GH...</td>\n",
              "      <td>Laptop</td>\n",
              "      <td>202.000</td>\n",
              "      <td>0.1500</td>\n",
              "      <td>3.0</td>\n",
              "      <td>0.77</td>\n",
              "      <td>SSD 512GB</td>\n",
              "    </tr>\n",
              "    <tr>\n",
              "      <th>4</th>\n",
              "      <td>Apple</td>\n",
              "      <td>13-inch MacBook Pro (1.4GHz quad-core CPU) 256...</td>\n",
              "      <td>Laptop</td>\n",
              "      <td>217.000</td>\n",
              "      <td>0.1700</td>\n",
              "      <td>3.0</td>\n",
              "      <td>0.76</td>\n",
              "      <td>SSD 256GB</td>\n",
              "    </tr>\n",
              "    <tr>\n",
              "      <th>...</th>\n",
              "      <td>...</td>\n",
              "      <td>...</td>\n",
              "      <td>...</td>\n",
              "      <td>...</td>\n",
              "      <td>...</td>\n",
              "      <td>...</td>\n",
              "      <td>...</td>\n",
              "      <td>...</td>\n",
              "    </tr>\n",
              "    <tr>\n",
              "      <th>1221</th>\n",
              "      <td>Seagate</td>\n",
              "      <td>Nytro 1551 XA1920ME10083 1.92 TB</td>\n",
              "      <td>Hard drive</td>\n",
              "      <td>53.760</td>\n",
              "      <td>0.8570</td>\n",
              "      <td>5.0</td>\n",
              "      <td>NaN</td>\n",
              "      <td>1.92TB SSD</td>\n",
              "    </tr>\n",
              "    <tr>\n",
              "      <th>1222</th>\n",
              "      <td>Seagate</td>\n",
              "      <td>Nytro 3331 XS7680SE70004 7.68TB</td>\n",
              "      <td>Hard drive</td>\n",
              "      <td>195.072</td>\n",
              "      <td>0.7790</td>\n",
              "      <td>5.0</td>\n",
              "      <td>NaN</td>\n",
              "      <td>NaN</td>\n",
              "    </tr>\n",
              "    <tr>\n",
              "      <th>1223</th>\n",
              "      <td>Seagate</td>\n",
              "      <td>OneStor SP2584 Extensible Storage Platform</td>\n",
              "      <td>SAN/NAS</td>\n",
              "      <td>190000.000</td>\n",
              "      <td>0.9652</td>\n",
              "      <td>10.0</td>\n",
              "      <td>NaN</td>\n",
              "      <td>NaN</td>\n",
              "    </tr>\n",
              "    <tr>\n",
              "      <th>1224</th>\n",
              "      <td>Seagate</td>\n",
              "      <td>Pulsar 2 800GB SSD</td>\n",
              "      <td>Hard drive</td>\n",
              "      <td>205.000</td>\n",
              "      <td>0.6600</td>\n",
              "      <td>3.0</td>\n",
              "      <td>NaN</td>\n",
              "      <td>NaN</td>\n",
              "    </tr>\n",
              "    <tr>\n",
              "      <th>1225</th>\n",
              "      <td>Seagate</td>\n",
              "      <td>THUNDERBUG 300 Go</td>\n",
              "      <td>Hard drive</td>\n",
              "      <td>117.750</td>\n",
              "      <td>0.8800</td>\n",
              "      <td>5.0</td>\n",
              "      <td>NaN</td>\n",
              "      <td>300GB HDD</td>\n",
              "    </tr>\n",
              "  </tbody>\n",
              "</table>\n",
              "<p>1226 rows × 8 columns</p>\n",
              "</div>\n",
              "      <button class=\"colab-df-convert\" onclick=\"convertToInteractive('df-80d080d4-5bff-4ad0-8d7c-83ec7ab8fe07')\"\n",
              "              title=\"Convert this dataframe to an interactive table.\"\n",
              "              style=\"display:none;\">\n",
              "        \n",
              "  <svg xmlns=\"http://www.w3.org/2000/svg\" height=\"24px\"viewBox=\"0 0 24 24\"\n",
              "       width=\"24px\">\n",
              "    <path d=\"M0 0h24v24H0V0z\" fill=\"none\"/>\n",
              "    <path d=\"M18.56 5.44l.94 2.06.94-2.06 2.06-.94-2.06-.94-.94-2.06-.94 2.06-2.06.94zm-11 1L8.5 8.5l.94-2.06 2.06-.94-2.06-.94L8.5 2.5l-.94 2.06-2.06.94zm10 10l.94 2.06.94-2.06 2.06-.94-2.06-.94-.94-2.06-.94 2.06-2.06.94z\"/><path d=\"M17.41 7.96l-1.37-1.37c-.4-.4-.92-.59-1.43-.59-.52 0-1.04.2-1.43.59L10.3 9.45l-7.72 7.72c-.78.78-.78 2.05 0 2.83L4 21.41c.39.39.9.59 1.41.59.51 0 1.02-.2 1.41-.59l7.78-7.78 2.81-2.81c.8-.78.8-2.07 0-2.86zM5.41 20L4 18.59l7.72-7.72 1.47 1.35L5.41 20z\"/>\n",
              "  </svg>\n",
              "      </button>\n",
              "      \n",
              "  <style>\n",
              "    .colab-df-container {\n",
              "      display:flex;\n",
              "      flex-wrap:wrap;\n",
              "      gap: 12px;\n",
              "    }\n",
              "\n",
              "    .colab-df-convert {\n",
              "      background-color: #E8F0FE;\n",
              "      border: none;\n",
              "      border-radius: 50%;\n",
              "      cursor: pointer;\n",
              "      display: none;\n",
              "      fill: #1967D2;\n",
              "      height: 32px;\n",
              "      padding: 0 0 0 0;\n",
              "      width: 32px;\n",
              "    }\n",
              "\n",
              "    .colab-df-convert:hover {\n",
              "      background-color: #E2EBFA;\n",
              "      box-shadow: 0px 1px 2px rgba(60, 64, 67, 0.3), 0px 1px 3px 1px rgba(60, 64, 67, 0.15);\n",
              "      fill: #174EA6;\n",
              "    }\n",
              "\n",
              "    [theme=dark] .colab-df-convert {\n",
              "      background-color: #3B4455;\n",
              "      fill: #D2E3FC;\n",
              "    }\n",
              "\n",
              "    [theme=dark] .colab-df-convert:hover {\n",
              "      background-color: #434B5C;\n",
              "      box-shadow: 0px 1px 3px 1px rgba(0, 0, 0, 0.15);\n",
              "      filter: drop-shadow(0px 1px 2px rgba(0, 0, 0, 0.3));\n",
              "      fill: #FFFFFF;\n",
              "    }\n",
              "  </style>\n",
              "\n",
              "      <script>\n",
              "        const buttonEl =\n",
              "          document.querySelector('#df-80d080d4-5bff-4ad0-8d7c-83ec7ab8fe07 button.colab-df-convert');\n",
              "        buttonEl.style.display =\n",
              "          google.colab.kernel.accessAllowed ? 'block' : 'none';\n",
              "\n",
              "        async function convertToInteractive(key) {\n",
              "          const element = document.querySelector('#df-80d080d4-5bff-4ad0-8d7c-83ec7ab8fe07');\n",
              "          const dataTable =\n",
              "            await google.colab.kernel.invokeFunction('convertToInteractive',\n",
              "                                                     [key], {});\n",
              "          if (!dataTable) return;\n",
              "\n",
              "          const docLinkHtml = 'Like what you see? Visit the ' +\n",
              "            '<a target=\"_blank\" href=https://colab.research.google.com/notebooks/data_table.ipynb>data table notebook</a>'\n",
              "            + ' to learn more about interactive tables.';\n",
              "          element.innerHTML = '';\n",
              "          dataTable['output_type'] = 'display_data';\n",
              "          await google.colab.output.renderOutput(dataTable, element);\n",
              "          const docLink = document.createElement('div');\n",
              "          docLink.innerHTML = docLinkHtml;\n",
              "          element.appendChild(docLink);\n",
              "        }\n",
              "      </script>\n",
              "    </div>\n",
              "  </div>\n",
              "  "
            ]
          },
          "metadata": {},
          "execution_count": 2
        }
      ],
      "source": [
        "from sys import dont_write_bytecode\n",
        "import pandas as pd\n",
        "import requests\n",
        "import io\n",
        "\n",
        "url_boavizta = \"https://raw.githubusercontent.com/Boavizta/environmental-footprint-data/main/boavizta-data-us.csv\"\n",
        "# téléchargement des data raw\n",
        "download = requests.get(url_boavizta).content\n",
        "# filtrage des colonnes souhaitées\n",
        "listCol_boavizta_crop = [\"manufacturer\", \"name\", \"subcategory\", \"hard_drive\", \"lifetime\", \"gwp_total\", \"gwp_use_ratio\", \"gwp_manufacturing_ratio\"]\n",
        "df = pd.read_csv(io.StringIO(download.decode('utf-8')), usecols = listCol_boavizta_crop)\n",
        "df"
      ]
    },
    {
      "cell_type": "markdown",
      "source": [
        "#**⚙️ Opérations dans Boavizta**\n",
        "\n",
        "---"
      ],
      "metadata": {
        "id": "DaYtCOJ00O1u"
      }
    },
    {
      "cell_type": "code",
      "source": [
        "# moyenne des gwp_total\n",
        "df1 = df.query('subcategory == \"Laptop\"')[\"gwp_total\"].mean()\n",
        "print(round(df1))"
      ],
      "metadata": {
        "colab": {
          "base_uri": "https://localhost:8080/"
        },
        "id": "kwh7w4XP10HE",
        "outputId": "c841f905-9bea-43ee-ac6a-b0fa94dda3f4"
      },
      "execution_count": 2,
      "outputs": [
        {
          "output_type": "stream",
          "name": "stdout",
          "text": [
            "309\n"
          ]
        }
      ]
    },
    {
      "cell_type": "code",
      "source": [
        "# moyenne des gwp_manufacturing\n",
        "df2 = (df.query('subcategory == \"Laptop\"')[\"gwp_manufacturing_ratio\"]*df.query('subcategory == \"Laptop\"')[\"gwp_total\"]).mean()\n",
        "print(round(df2))"
      ],
      "metadata": {
        "colab": {
          "base_uri": "https://localhost:8080/"
        },
        "id": "cEStX_yYzy67",
        "outputId": "890c574d-93b5-4f86-8d6a-ab6341f199ff"
      },
      "execution_count": 6,
      "outputs": [
        {
          "output_type": "stream",
          "name": "stdout",
          "text": [
            "232\n"
          ]
        }
      ]
    },
    {
      "cell_type": "code",
      "source": [
        "# existing subcategories\n",
        "df3 = df[\"subcategory\"].unique()\n",
        "df3"
      ],
      "metadata": {
        "id": "nuYT4JdaA00G",
        "outputId": "37e9250b-e59a-4d6a-c236-5d15c7524850",
        "colab": {
          "base_uri": "https://localhost:8080/"
        }
      },
      "execution_count": 6,
      "outputs": [
        {
          "output_type": "execute_result",
          "data": {
            "text/plain": [
              "array(['Laptop', 'Desktop', 'Monitor', 'EntertainmentT', 'IoT', 'Tablet',\n",
              "       'Smartphone', 'Entertainment', 'Workstation', 'Server',\n",
              "       'Thin Client', 'Thin client', 'Multimedia', 'Network', 'Gaming',\n",
              "       'Converged Edge', 'Converged', 'Printer', 'Hard drive', 'SAN/NAS'],\n",
              "      dtype=object)"
            ]
          },
          "metadata": {},
          "execution_count": 6
        }
      ]
    },
    {
      "cell_type": "code",
      "source": [],
      "metadata": {
        "id": "jvtWBerGEadV"
      },
      "execution_count": null,
      "outputs": []
    }
  ]
}